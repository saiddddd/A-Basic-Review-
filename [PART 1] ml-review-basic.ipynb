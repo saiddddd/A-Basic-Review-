{
 "cells": [
  {
   "cell_type": "markdown",
   "id": "aee60406",
   "metadata": {},
   "source": [
    "# 1. Regresi Linear"
   ]
  },
  {
   "cell_type": "code",
   "execution_count": 22,
   "id": "28c97014",
   "metadata": {},
   "outputs": [
    {
     "name": "stdout",
     "output_type": "stream",
     "text": [
      "mse :  527.4032278630916\n"
     ]
    },
    {
     "data": {
      "image/png": "[encoded data removed]",
      "text/plain": [
       "<Figure size 576x432 with 1 Axes>"
      ]
     },
     "metadata": {
      "needs_background": "light"
     },
     "output_type": "display_data"
    }
   ],
   "source": [
    "from sklearn.model_selection import train_test_split\n",
    "from sklearn import datasets\n",
    "from sklearn.metrics import confusion_matrix\n",
    "from sklearn.datasets import make_blobs\n",
    "import numpy as np\n",
    "from numpy.random import randn\n",
    "import random\n",
    "import matplotlib.pyplot as plt\n",
    "from IPython.core.display import display, Image\n",
    "from string import Template\n",
    "import warnings\n",
    "\n",
    "class LinearRegression:\n",
    "    \n",
    "    def __init__(self, learning_rate = 0.001, n_iters = 1000):\n",
    "        self.lr = learning_rate\n",
    "        self.n_iters = n_iters\n",
    "        self.weights = None\n",
    "        self.bias = None\n",
    "    \n",
    "    def fit(self, X,y):\n",
    "        n_samples, n_features = X.shape\n",
    "        \n",
    "        #init parameters\n",
    "        self.weights = np.zeros(n_features)\n",
    "        self.bias = 0\n",
    "        \n",
    "        #gradient descent\n",
    "        for _ in range(self.n_iters):\n",
    "            y_predicted = np.dot(X, self.weights) + self.bias\n",
    "            #compute gradients\n",
    "            dw = (1 / n_samples) * np.dot(X.T, (y_predicted - y))\n",
    "            db = (1 / n_samples) * np.sum(y_predicted - y)\n",
    "            \n",
    "            #update parameters\n",
    "            self.weights -= self.lr*dw\n",
    "            self.bias -= self.lr*db\n",
    "      \n",
    "    def predict(self, X):\n",
    "        y_predicted = np.dot(X, self.weights) + self.bias\n",
    "        return y_predicted\n",
    "    \n",
    "\n",
    "def mean_squared_error(y_true, y_pred):\n",
    "    return np.mean((y_true - y_pred)**2)\n",
    "\n",
    "X, y = datasets.make_regression(n_samples = 100, n_features = 1, noise = 20, random_state = 0)\n",
    "X_train, X_test, y_train, y_test = train_test_split(X, y, test_size = 0.2, random_state = 0)\n",
    "\n",
    "regressor = LinearRegression(learning_rate = 0.01, n_iters = 100)\n",
    "regressor.fit(X_train, y_train)\n",
    "predictions = regressor.predict(X_test)\n",
    "y_pred_line = regressor.predict(X)\n",
    "\n",
    "mse = mean_squared_error(y_test, predictions)\n",
    "print(\"mse : \", mse)\n",
    "\n",
    "cmap = plt.get_cmap(\"viridis\")\n",
    "fig = plt.figure(figsize=(8,6))\n",
    "plot1 = plt.scatter(X_train, y_train, color = cmap(0.9), s = 10) \n",
    "plot2 = plt.scatter(X_test, y_test, color = cmap(0.5), s = 10) \n",
    "plt.plot(X, y_pred_line, color = 'black', linewidth = 2, label = \"prediction\")    \n",
    "plt.show()        "
   ]
  },
  {
   "cell_type": "code",
   "execution_count": null,
   "id": "d520e4ba",
   "metadata": {},
   "outputs": [],
   "source": []
  },
  {
   "cell_type": "markdown",
   "id": "3008ffbb",
   "metadata": {},
   "source": [
    "# 2 . Logistisc Regression"
   ]
  },
  {
   "cell_type": "code",
   "execution_count": 21,
   "id": "7c53835d",
   "metadata": {},
   "outputs": [
    {
     "name": "stdout",
     "output_type": "stream",
     "text": [
      "akurasi:  0.9298245614035088\n"
     ]
    },
    {
     "name": "stderr",
     "output_type": "stream",
     "text": [
      "<ipython-input-21-8b69adef1f75>:34: RuntimeWarning: overflow encountered in exp\n",
      "  return (1 / (1 + np.exp(-x)))\n"
     ]
    }
   ],
   "source": [
    "class logisticRegression:\n",
    "    \n",
    "    def __init__(self, lr = 0.001, n_iters = 1000):\n",
    "        self.lr = lr\n",
    "        self.n_iters = n_iters\n",
    "        self.weights = None\n",
    "        self.bias = None\n",
    "        \n",
    "    def fit(self, X, y):\n",
    "        #init parameters\n",
    "        n_samples, n_features = X.shape\n",
    "        self.weights = np.zeros(n_features)\n",
    "        self.bias = 0\n",
    "        \n",
    "        #gradient descent\n",
    "        for _ in range(self.n_iters):\n",
    "            linear_model = np.dot(X, self.weights) + self.bias\n",
    "            y_predicted = self._sigmoid(linear_model)\n",
    "            \n",
    "            dw = (1 / n_samples) * np.dot(X.T, (y_predicted - y))\n",
    "            db = (1 / n_samples) * np.sum((y_predicted - y))\n",
    "            \n",
    "            self.weights -= self.lr * dw\n",
    "            self.bias -= self.lr * db\n",
    "            \n",
    "    \n",
    "    def predict(self, X):\n",
    "        linear_model = np.dot(X, self.weights) + self.bias\n",
    "        y_predicted = self._sigmoid(linear_model)\n",
    "        y_predicted_cls = [1 if i > 0.5 else 0 for i in y_predicted]\n",
    "        return y_predicted_cls\n",
    "    \n",
    "    def _sigmoid(self, x):\n",
    "        return (1 / (1 + np.exp(-x)))\n",
    "\n",
    "def accuracy(y_true, y_pred):\n",
    "    accuracy = np.sum(y_true == y_pred) / len(y_true)\n",
    "    return accuracy\n",
    "\n",
    "\n",
    "bc = datasets.load_breast_cancer()\n",
    "X, y = bc.data, bc.target\n",
    "\n",
    "X_train, X_test, y_train, y_test = train_test_split(X, y , test_size = 0.2, random_state = 24)\n",
    "lr = logisticRegression(lr = 0.001, n_iters = 1000)\n",
    "lr.fit(X_train, y_train)\n",
    "\n",
    "prediksi = lr.predict(X_test)\n",
    "print(\"akurasi: \", accuracy(y_test, prediksi))       "
   ]
  },
  {
   "cell_type": "code",
   "execution_count": null,
   "id": "b43b6ebc",
   "metadata": {},
   "outputs": [],
   "source": []
  },
  {
   "cell_type": "markdown",
   "id": "75462e31",
   "metadata": {},
   "source": [
    "# 3. K - Means"
   ]
  },
  {
   "cell_type": "code",
   "execution_count": 56,
   "id": "ea21c970",
   "metadata": {},
   "outputs": [
    {
     "name": "stdout",
     "output_type": "stream",
     "text": [
      "3\n",
      "3481.4959066512015\n"
     ]
    },
    {
     "data": {
      "image/png": "[encoded data removed]",
      "text/plain": [
       "<Figure size 864x576 with 1 Axes>"
      ]
     },
     "metadata": {
      "needs_background": "light"
     },
     "output_type": "display_data"
    }
   ],
   "source": [
    "np.random.seed(42)\n",
    "\n",
    "X, y = make_blobs(centers=3, n_samples=500, n_features=2, shuffle=True, random_state=4)\n",
    "\n",
    "def euclidean_distance(x1,x2):\n",
    "    \n",
    "    return np.sqrt(np.sum((x1 - x2)**2))\n",
    "\n",
    "class KMeans:\n",
    "    def __init__(self, K=5, max_iters=100, plot_steps=False):\n",
    "        self.K = K\n",
    "        self.max_iters = max_iters\n",
    "        self.plot_steps = plot_steps\n",
    "\n",
    "        #list of samples endices for each cluster\n",
    "        self.clusters = [[] for _ in range(self.K)]\n",
    "\n",
    "        #mean feature vector for each cluster\n",
    "        self.centroids = []\n",
    "\n",
    "    def predict(self, X):\n",
    "        self.X = X\n",
    "        self.n_samples, self.n_features = X.shape\n",
    "\n",
    "        #initialize centroids\n",
    "        random_sample_idxs = np.random.choice(self.n_samples, self.K, replace = False)\n",
    "        self.centroids = [self.X[idx] for idx in random_sample_idxs]\n",
    "\n",
    "        #optimization\n",
    "        for _ in range(self.max_iters):    \n",
    "            #update clusters\n",
    "            self.clusters = self._create_clusters(self.centroids)\n",
    "            if self.plot_steps:\n",
    "                self.plot()\n",
    "\n",
    "            #update centroids\n",
    "            centroids_old = self.centroids\n",
    "            self.centroids = self._get_centroids(self.clusters)\n",
    "\n",
    "\n",
    "            #check if converged\n",
    "            if self._is_converged(centroids_old, self.centroids):\n",
    "                break\n",
    "\n",
    "            if self.plot_steps:\n",
    "                self.plot()\n",
    "\n",
    "        #return cluster labels\n",
    "        return self._get_cluster_labels(self.clusters)\n",
    "\n",
    "    def _get_cluster_labels(self, clusters):\n",
    "        labels = np.empty(self.n_samples)\n",
    "        for cluster_idx, cluster in enumerate(clusters):\n",
    "            for sample_idx in cluster:\n",
    "                labels[sample_idx] = cluster_idx\n",
    "        return labels\n",
    "\n",
    "\n",
    "    def _create_clusters(self, centroids):\n",
    "        clusters = [[] for _ in range(self.K)]\n",
    "        for idx, sample in enumerate(self.X):\n",
    "            centroid_idx = self._closest_centroid(sample, centroids)\n",
    "            clusters[centroid_idx].append(idx)\n",
    "        return clusters\n",
    "\n",
    "    def _closest_centroid(self, sample, centroids):\n",
    "        distances = [euclidean_distance(sample,point) for point in centroids]\n",
    "        closest_idx = np.argmin(distances)\n",
    "        return closest_idx\n",
    "\n",
    "    def _get_centroids(self, clusters):\n",
    "        centroids = np.zeros((self.K, self.n_features))\n",
    "        for cluster_idx, cluster in enumerate(clusters):\n",
    "            cluster_mean = np.mean(self.X[cluster], axis=0)\n",
    "            centroids[cluster_idx] = cluster_mean\n",
    "        return centroids\n",
    "\n",
    "    def _is_converged(self, centroids_old, centroids):\n",
    "        distances = [euclidean_distance(centroids_old[i], centroids[i]) for i in range(self.K)]\n",
    "        return sum(distances) == 0\n",
    "\n",
    "    def plot(self):\n",
    "        fig, ax = plt.subplots(figsize=(12,8))\n",
    "        for i, index in enumerate(self.clusters):\n",
    "            point = self.X[index].T\n",
    "            ax.scatter(*point)\n",
    "        for point in self.centroids:\n",
    "            ax.scatter(*point,marker='x',color='black',linewidth=2)\n",
    "\n",
    "    plt.show()  \n",
    "\n",
    "from sklearn.metrics import pairwise_distances\n",
    "from sklearn import metrics\n",
    "clusters = len(np.unique(y))\n",
    "print(clusters)\n",
    "km = KMeans(K= clusters, max_iters=120, plot_steps=False)\n",
    "y_pred = km.predict(X)\n",
    "km.plot()\n",
    "print(metrics.calinski_harabasz_score(X, y_pred))"
   ]
  },
  {
   "cell_type": "code",
   "execution_count": null,
   "id": "4c8800a2",
   "metadata": {},
   "outputs": [],
   "source": []
  },
  {
   "cell_type": "code",
   "execution_count": 55,
   "id": "0789c5bf",
   "metadata": {},
   "outputs": [
    {
     "name": "stdout",
     "output_type": "stream",
     "text": [
      "3\n",
      "4169.4141854648005\n"
     ]
    },
    {
     "data": {
      "image/png": "[encoded data removed]",
      "text/plain": [
       "<Figure size 864x576 with 1 Axes>"
      ]
     },
     "metadata": {
      "needs_background": "light"
     },
     "output_type": "display_data"
    }
   ],
   "source": [
    "np.random.seed(3)\n",
    "\n",
    "X, y = make_blobs(centers=3, n_samples=500, n_features=2, shuffle=True, random_state=3)\n",
    "\n",
    "def euclidean_distance(x1,x2):\n",
    "    \n",
    "    return np.sqrt(np.sum((x1 - x2)**2))\n",
    "\n",
    "class KMeans:\n",
    "    def __init__(self, K=5, max_iters=100, plot_steps=False):\n",
    "        self.K = K\n",
    "        self.max_iters = max_iters\n",
    "        self.plot_steps = plot_steps\n",
    "\n",
    "        #list of samples endices for each cluster\n",
    "        self.clusters = [[] for _ in range(self.K)]\n",
    "\n",
    "        #mean feature vector for each cluster\n",
    "        self.centroids = []\n",
    "\n",
    "    def predict(self, X):\n",
    "        self.X = np.sort(X, axis = 1)\n",
    "        self.n_samples, self.n_features = X.shape\n",
    "\n",
    "\n",
    "        #initialize centroids\n",
    "        random_sample_idxs = np.random.choice(self.n_samples, self.K, replace = False)\n",
    "        self.centroids = [self.X[idx] for idx in random_sample_idxs]\n",
    "\n",
    "        #optimization\n",
    "        for _ in range(self.max_iters):    \n",
    "            #update clusters\n",
    "            self.clusters = self._create_clusters(self.centroids)\n",
    "            if self.plot_steps:\n",
    "                self.plot()\n",
    "\n",
    "            #update centroids\n",
    "            centroids_old = self.centroids\n",
    "            self.centroids = self._get_centroids(self.clusters)\n",
    "\n",
    "\n",
    "            #check if converged\n",
    "            if self._is_converged(centroids_old, self.centroids):\n",
    "                break\n",
    "\n",
    "            if self.plot_steps:\n",
    "                self.plot()\n",
    "\n",
    "        #return cluster labels\n",
    "        return self._get_cluster_labels(self.clusters)\n",
    "\n",
    "    def _get_cluster_labels(self, clusters):\n",
    "        labels = np.empty(self.n_samples)\n",
    "        for cluster_idx, cluster in enumerate(clusters):\n",
    "            for sample_idx in cluster:\n",
    "                labels[sample_idx] = cluster_idx\n",
    "        return labels\n",
    "\n",
    "\n",
    "    def _create_clusters(self, centroids):\n",
    "        clusters = [[] for _ in range(self.K)]\n",
    "        for idx, sample in enumerate(self.X):\n",
    "            centroid_idx = self._closest_centroid(sample, centroids)\n",
    "            clusters[centroid_idx].append(idx)\n",
    "        return clusters\n",
    "\n",
    "    def _closest_centroid(self, sample, centroids):\n",
    "        distances = [euclidean_distance(sample,point) for point in centroids]\n",
    "        closest_idx = np.argmin(distances)\n",
    "        return closest_idx\n",
    "\n",
    "    def _get_centroids(self, clusters):\n",
    "        centroids = np.zeros((self.K, self.n_features))\n",
    "        for cluster_idx, cluster in enumerate(clusters):\n",
    "            cluster_mean = np.mean(self.X[cluster], axis=0)\n",
    "            centroids[cluster_idx] = cluster_mean\n",
    "        return centroids\n",
    "\n",
    "    def _is_converged(self, centroids_old, centroids):\n",
    "        distances = [euclidean_distance(centroids_old[i], centroids[i]) for i in range(self.K)]\n",
    "        return sum(distances) == 0\n",
    "\n",
    "    def plot(self):\n",
    "        fig, ax = plt.subplots(figsize=(12,8))\n",
    "        for i, index in enumerate(self.clusters):\n",
    "            point = self.X[index].T\n",
    "            ax.scatter(*point)\n",
    "        for point in self.centroids:\n",
    "            ax.scatter(*point,marker='x',color='black',linewidth=2)\n",
    "\n",
    "    plt.show()  \n",
    "from sklearn.metrics import pairwise_distances\n",
    "from sklearn import metrics\n",
    "clusters = len(np.unique(y))\n",
    "print(clusters)\n",
    "km = KMeans(K= clusters, max_iters=120, plot_steps=False)\n",
    "y_pred = km.predict(X)\n",
    "km.plot()\n",
    "print(metrics.calinski_harabasz_score(X, y_pred))"
   ]
  },
  {
   "cell_type": "code",
   "execution_count": 52,
   "id": "c3eacaa3",
   "metadata": {},
   "outputs": [
    {
     "data": {
      "text/plain": [
       "array([2., 1., 2., 1., 2., 0., 2., 2., 2., 2., 1., 2., 2., 0., 2., 2., 2.,\n",
       "       2., 0., 0., 1., 1., 2., 2., 0., 2., 0., 1., 0., 1., 1., 2., 1., 1.,\n",
       "       1., 1., 1., 2., 0., 0., 0., 0., 0., 2., 1., 1., 1., 0., 2., 1., 2.,\n",
       "       2., 2., 2., 1., 2., 2., 1., 2., 1., 2., 2., 0., 2., 1., 0., 0., 0.,\n",
       "       1., 0., 1., 1., 2., 2., 1., 1., 2., 1., 1., 1., 2., 0., 1., 2., 0.,\n",
       "       1., 1., 1., 2., 1., 0., 2., 2., 0., 2., 1., 0., 1., 1., 2., 2., 2.,\n",
       "       1., 1., 2., 2., 0., 2., 2., 1., 1., 2., 1., 0., 0., 0., 0., 0., 1.,\n",
       "       2., 0., 0., 0., 0., 2., 0., 0., 0., 1., 2., 0., 2., 2., 2., 0., 1.,\n",
       "       0., 0., 1., 0., 2., 0., 2., 0., 2., 0., 1., 0., 2., 1., 2., 0., 1.,\n",
       "       1., 0., 2., 2., 1., 2., 0., 1., 2., 1., 0., 1., 1., 1., 0., 0., 1.,\n",
       "       0., 1., 0., 2., 1., 0., 2., 2., 0., 1., 0., 2., 1., 0., 1., 2., 1.,\n",
       "       1., 0., 2., 0., 1., 2., 0., 2., 0., 2., 1., 1., 2., 0., 0., 0., 0.,\n",
       "       2., 0., 0., 0., 1., 1., 0., 0., 0., 0., 1., 0., 2., 1., 0., 1., 0.,\n",
       "       1., 0., 1., 1., 2., 0., 1., 2., 1., 2., 2., 1., 1., 1., 0., 2., 0.,\n",
       "       2., 1., 1., 1., 2., 0., 2., 0., 2., 0., 0., 0., 2., 2., 2., 1., 2.,\n",
       "       0., 1., 2., 0., 1., 2., 2., 2., 0., 0., 2., 1., 1., 1., 2., 1., 2.,\n",
       "       0., 2., 0., 1., 2., 2., 2., 2., 1., 0., 2., 2., 1., 0., 2., 1., 1.,\n",
       "       0., 1., 2., 2., 2., 1., 2., 1., 1., 2., 0., 1., 2., 1., 0., 2., 0.,\n",
       "       1., 2., 1., 0., 0., 1., 2., 0., 2., 0., 0., 1., 0., 2., 1., 1., 1.,\n",
       "       1., 0., 0., 1., 2., 0., 1., 2., 0., 2., 2., 1., 1., 0., 1., 1., 1.,\n",
       "       0., 0., 2., 0., 0., 1., 2., 2., 1., 1., 1., 0., 1., 0., 2., 1., 1.,\n",
       "       0., 0., 0., 1., 2., 0., 0., 2., 0., 2., 0., 0., 0., 0., 2., 1., 2.,\n",
       "       1., 0., 0., 2., 2., 1., 2., 1., 0., 1., 2., 0., 0., 2., 2., 2., 1.,\n",
       "       0., 2., 0., 0., 0., 2., 1., 2., 2., 2., 0., 1., 1., 2., 1., 1., 0.,\n",
       "       2., 0., 2., 0., 2., 1., 1., 2., 2., 2., 1., 1., 2., 2., 0., 0., 2.,\n",
       "       0., 1., 0., 2., 0., 1., 0., 2., 1., 1., 0., 1., 2., 1., 1., 0., 0.,\n",
       "       0., 1., 0., 1., 1., 1., 2., 2., 2., 0., 1., 1., 0., 1., 0., 0., 1.,\n",
       "       0., 1., 2., 2., 1., 0., 2., 0., 0., 2., 0., 2., 0., 2., 2., 2., 1.,\n",
       "       1., 0., 1., 2., 1., 1., 0., 1., 0., 1., 1., 0., 2., 1., 2., 0., 1.,\n",
       "       2., 0., 2., 0., 1., 0., 0.])"
      ]
     },
     "execution_count": 52,
     "metadata": {},
     "output_type": "execute_result"
    }
   ],
   "source": [
    "y_pred"
   ]
  },
  {
   "cell_type": "code",
   "execution_count": null,
   "id": "4a13a7a4",
   "metadata": {},
   "outputs": [],
   "source": []
  },
  {
   "cell_type": "code",
   "execution_count": 57,
   "id": "fdfa00a3",
   "metadata": {},
   "outputs": [
    {
     "data": {
      "text/plain": [
       "688"
      ]
     },
     "execution_count": 57,
     "metadata": {},
     "output_type": "execute_result"
    }
   ],
   "source": [
    "4169 - 3481"
   ]
  },
  {
   "cell_type": "code",
   "execution_count": null,
   "id": "7fe18b64",
   "metadata": {},
   "outputs": [],
   "source": []
  },
  {
   "cell_type": "code",
   "execution_count": null,
   "id": "420063d6",
   "metadata": {},
   "outputs": [],
   "source": []
  },
  {
   "cell_type": "code",
   "execution_count": null,
   "id": "14056418",
   "metadata": {},
   "outputs": [],
   "source": []
  },
  {
   "cell_type": "code",
   "execution_count": null,
   "id": "a35a79bc",
   "metadata": {},
   "outputs": [],
   "source": []
  },
  {
   "cell_type": "code",
   "execution_count": null,
   "id": "1aec7a50",
   "metadata": {},
   "outputs": [],
   "source": []
  },
  {
   "cell_type": "code",
   "execution_count": null,
   "id": "ce33c7ee",
   "metadata": {},
   "outputs": [],
   "source": []
  },
  {
   "cell_type": "code",
   "execution_count": null,
   "id": "a2f9317a",
   "metadata": {},
   "outputs": [],
   "source": []
  },
  {
   "cell_type": "code",
   "execution_count": null,
   "id": "f2ebef7c",
   "metadata": {},
   "outputs": [],
   "source": []
  },
  {
   "cell_type": "code",
   "execution_count": null,
   "id": "ebd0aaf9",
   "metadata": {},
   "outputs": [],
   "source": []
  },
  {
   "cell_type": "code",
   "execution_count": null,
   "id": "99538e54",
   "metadata": {},
   "outputs": [],
   "source": []
  },
  {
   "cell_type": "code",
   "execution_count": null,
   "id": "e9cb7308",
   "metadata": {},
   "outputs": [],
   "source": []
  },
  {
   "cell_type": "code",
   "execution_count": null,
   "id": "159b2af7",
   "metadata": {},
   "outputs": [],
   "source": []
  },
  {
   "cell_type": "code",
   "execution_count": null,
   "id": "971262b5",
   "metadata": {},
   "outputs": [],
   "source": []
  },
  {
   "cell_type": "code",
   "execution_count": null,
   "id": "98997be6",
   "metadata": {},
   "outputs": [],
   "source": []
  },
  {
   "cell_type": "code",
   "execution_count": null,
   "id": "2ebc9279",
   "metadata": {},
   "outputs": [],
   "source": []
  },
  {
   "cell_type": "code",
   "execution_count": null,
   "id": "208e314e",
   "metadata": {},
   "outputs": [],
   "source": []
  },
  {
   "cell_type": "code",
   "execution_count": null,
   "id": "b656604e",
   "metadata": {},
   "outputs": [],
   "source": []
  },
  {
   "cell_type": "code",
   "execution_count": null,
   "id": "272134c8",
   "metadata": {},
   "outputs": [],
   "source": []
  },
  {
   "cell_type": "code",
   "execution_count": null,
   "id": "d1f31c82",
   "metadata": {},
   "outputs": [],
   "source": []
  },
  {
   "cell_type": "code",
   "execution_count": null,
   "id": "8087b2d6",
   "metadata": {},
   "outputs": [],
   "source": []
  },
  {
   "cell_type": "code",
   "execution_count": null,
   "id": "878ebaa4",
   "metadata": {},
   "outputs": [],
   "source": []
  },
  {
   "cell_type": "code",
   "execution_count": null,
   "id": "8dd41b87",
   "metadata": {},
   "outputs": [],
   "source": []
  },
  {
   "cell_type": "code",
   "execution_count": null,
   "id": "a398b070",
   "metadata": {},
   "outputs": [],
   "source": []
  },
  {
   "cell_type": "code",
   "execution_count": null,
   "id": "840f84af",
   "metadata": {},
   "outputs": [],
   "source": []
  },
  {
   "cell_type": "code",
   "execution_count": null,
   "id": "6d9f58b4",
   "metadata": {},
   "outputs": [],
   "source": []
  },
  {
   "cell_type": "code",
   "execution_count": null,
   "id": "fdc922b5",
   "metadata": {},
   "outputs": [],
   "source": []
  },
  {
   "cell_type": "code",
   "execution_count": null,
   "id": "5102e3c0",
   "metadata": {},
   "outputs": [],
   "source": []
  },
  {
   "cell_type": "code",
   "execution_count": null,
   "id": "b2ff1e0b",
   "metadata": {},
   "outputs": [],
   "source": []
  },
  {
   "cell_type": "code",
   "execution_count": null,
   "id": "ad86e68b",
   "metadata": {},
   "outputs": [],
   "source": []
  }
 ],
 "metadata": {
  "kernelspec": {
   "display_name": "Python 3",
   "language": "python",
   "name": "python3"
  },
  "language_info": {
   "codemirror_mode": {
    "name": "ipython",
    "version": 3
   },
   "file_extension": ".py",
   "mimetype": "text/x-python",
   "name": "python",
   "nbconvert_exporter": "python",
   "pygments_lexer": "ipython3",
   "version": "3.8.8"
  }
 },
 "nbformat": 4,
 "nbformat_minor": 5
}
